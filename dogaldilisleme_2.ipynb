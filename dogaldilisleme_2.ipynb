{
  "nbformat": 4,
  "nbformat_minor": 0,
  "metadata": {
    "colab": {
      "provenance": [],
      "authorship_tag": "ABX9TyP/6mTbFLhoJ/L74C7vPgzS",
      "include_colab_link": true
    },
    "kernelspec": {
      "name": "python3",
      "display_name": "Python 3"
    },
    "language_info": {
      "name": "python"
    }
  },
  "cells": [
    {
      "cell_type": "markdown",
      "metadata": {
        "id": "view-in-github",
        "colab_type": "text"
      },
      "source": [
        "<a href=\"https://colab.research.google.com/github/semanur-kocak/dogalDilIsleme_2/blob/main/dogaldilisleme_2.ipynb\" target=\"_parent\"><img src=\"https://colab.research.google.com/assets/colab-badge.svg\" alt=\"Open In Colab\"/></a>"
      ]
    },
    {
      "cell_type": "code",
      "execution_count": null,
      "metadata": {
        "id": "gteLr3FZXE20"
      },
      "outputs": [],
      "source": [
        "konu_anahtar_kelime = {\n",
        "    'Siyaset': ['seçim', 'politik', 'parti', 'hükümet', 'milletvekili', 'başkan', 'oy', 'demokrasi', 'meclis'],\n",
        "    'Teknoloji': ['yazılım', 'donanım', 'bilgisayar', 'internet', 'telefon', 'robot', 'yapay zeka', 'kodlama', 'blok zinciri'],\n",
        "    'Spor': ['futbol', 'basketbol', 'voleybol', 'şampiyon', 'maç', 'takım', 'sporcu', 'lig', 'stadyum', 'gol'],\n",
        "    'Sağlık': ['hastalık', 'tedavi', 'sağlık', 'doktor', 'ilaç', 'ameliyat', 'korona', 'aşı', 'bitkisel', 'beslenme'],\n",
        "    'Eğlence': ['film', 'dizi', 'müzik', 'oyun', 'konser', 'tiyatro', 'kitap', 'komedi', 'sinema', 'televizyon']\n",
        "}\n",
        "\n",
        "def konu_tespit_et(metin):\n",
        "    metin = metin.lower()\n",
        "\n",
        "    konu_skorları = {konu: 0 for konu in konu_anahtar_kelime}\n",
        "\n",
        "    for konu, kelimeler in konu_anahtar_kelime.items():\n",
        "        for kelime in kelimeler:\n",
        "            if kelime in metin:\n",
        "                konu_skorları[konu] += 1\n",
        "\n",
        "    en_yuksek_skorlu_konu = max(konu_skorları, key=konu_skorları.get)\n",
        "\n",
        "    if konu_skorları[en_yuksek_skorlu_konu] == 0:\n",
        "        return \"Diğer Konular\"\n",
        "\n",
        "    return en_yuksek_skorlu_konu\n",
        "\n",
        "metin = input(\"Bir metin girin: \")\n",
        "sonuc = konu_tespit_et(metin)\n",
        "print(f\"Metnin konusu: {sonuc}\")"
      ]
    }
  ]
}